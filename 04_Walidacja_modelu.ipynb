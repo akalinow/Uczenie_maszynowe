{
 "cells": [
  {
   "cell_type": "markdown",
   "metadata": {
    "id": "oMv_I3EiF6Rd"
   },
   "source": [
    "# Walidacja krzyżowa, krzywe ROC\n",
    "\n",
    "Teoria do tej części znajduje się tu:\n",
    "\n",
    "https://brain.fuw.edu.pl/edu/index.php/Uczenie_maszynowe_i_sztuczne_sieci_neuronowe/Wykład_Ocena_jakości_klasyfikacji"
   ]
  },
  {
   "cell_type": "markdown",
   "metadata": {
    "id": "qpPO3J51F6Rj"
   },
   "source": [
    "### Przygotowanie środowiska programistycznego"
   ]
  },
  {
   "cell_type": "code",
   "execution_count": 1,
   "metadata": {},
   "outputs": [],
   "source": [
    "import pandas as pd\n",
    "import matplotlib.pyplot as plt\n",
    "import seaborn as sns\n",
    "import numpy as np\n",
    "import scipy.optimize as so\n",
    "\n",
    "from sklearn.metrics import roc_curve, auc\n",
    "from sklearn.metrics import roc_auc_score\n",
    "from sklearn.metrics import RocCurveDisplay"
   ]
  },
  {
   "cell_type": "markdown",
   "metadata": {},
   "source": [
    "Zestaw uczący pobieramy z repozytorium github i wczytujemy używając klasy Pandas DataFrame. Najpierw pobieramy repozytorium z github. Repozytorium zawiera kod do naszych ćwiczeń, oraz przykładowe dane w katalogu \"dane\".\n",
    "\n",
    "```\n",
    "!git clone https://github.com/akalinow/Uczenie_maszynowe -b 2022_2023\n",
    "!ln -s /content/Uczenie_maszynowe/dane/ dane\n",
    "```"
   ]
  },
  {
   "cell_type": "code",
   "execution_count": 2,
   "metadata": {},
   "outputs": [],
   "source": [
    "df = pd.read_csv(\"dane/reg_log_data.txt\", encoding='latin-1', sep=\",\", names=[\"matematyka\", \"biologia\", \"wynik\"])"
   ]
  },
  {
   "cell_type": "markdown",
   "metadata": {},
   "source": [
    "**Proszę:**\n",
    "* skopiować to tego notatnika funkcje do trenowania regresji logistycznej napisane na poprzednich zajęciach:\n",
    "\n",
    "```Python\n",
    "logistic_func(theta, x)\n",
    "log_likelihood(theta, x, y, model)\n",
    "negative_log_likelihood(theta, x, y, model)\n",
    "log_likelihood_derivative(theta, x, y, model)\n",
    "negative_log_likelihood_derivative(theta, x, y, model)\n",
    "classification(theta, x, model)\n",
    "```\n",
    "\n",
    "Oczekiwany wynik (adresy funkcji będą inne niż poniżej):\n",
    "```Python\n",
    "<function logistic_func at 0x7f2a697b2a60> <function log_likelihood at 0x7f2a697b2ca0>\n",
    "<function negative_log_likelihood at 0x7f2a697b28b0> <function log_likelihood_derivative at 0x7f2a697b2ee0>\n",
    "<function negative_log_likelihood_derivative at 0x7f2a697b2670>\n",
    "<function classification at 0x7f2a73884940>\n",
    "Wartość funkcji log-wiarygodności dla zbioru testowego = -69.31471805599453\n",
    "Wartość pochodnej funkcji log-wiarygodności dla zbioru testowego = [  10.         1200.92165893 1126.28422055]\n",
    "```"
   ]
  },
  {
   "cell_type": "code",
   "execution_count": 3,
   "metadata": {},
   "outputs": [
    {
     "name": "stdout",
     "output_type": "stream",
     "text": [
      "<function logistic_func at 0x7f99e4ab31f0> <function log_likelihood at 0x7f99e4ab3790>\n",
      "<function negative_log_likelihood at 0x7f99e4ab3820> <function log_likelihood_derivative at 0x7f99e4ab3940>\n",
      "<function negative_log_likelihood_derivative at 0x7f99e4ab39d0>\n",
      "<function classification at 0x7f99e4ab3a60>\n",
      "Wartość funkcji log-wiarygodności dla zbioru testowego = -69.31471805599453\n",
      "Wartość pochodnej funkcji log-wiarygodności dla zbioru testowego = [  10.         1200.92165893 1126.28422055]\n"
     ]
    }
   ],
   "source": [
    "\n",
    "#BEGIN_SOLUTION\n",
    "def logistic_func(theta, x):\n",
    "    # dodaj kolumne jedynek\n",
    "    x_expanded = np.column_stack((np.ones(x.shape[0]), x))\n",
    "    #arg1 = (theta.reshape(1, len(theta)) @ x_expanded.T).reshape(-1)\n",
    "    # policz argument funkcji\n",
    "    arg = np.sum(theta*x_expanded, axis=1)\n",
    "    # uzyj np.where żeby ograniczyc wartosci parmetru do [-18,18]\n",
    "    arg = np.where(np.abs(arg)<18, arg, 18*np.sign(arg))\n",
    "    return 1.0/(1+np.exp(-arg))\n",
    "\n",
    "def log_likelihood(theta, x, y, model):\n",
    "    model_result = model(theta, x)\n",
    "    result = y*np.log(model_result) + (1-y)*np.log(1-model_result)\n",
    "    result = np.sum(result)\n",
    "    return result\n",
    "\n",
    "def negative_log_likelihood(theta, x, y, model):\n",
    "    return -log_likelihood(theta, x, y, model)\n",
    "    \n",
    "def log_likelihood_derivative(theta, x, y, model):\n",
    "    # odpowiedź modelu na dane\n",
    "    x_expanded = np.column_stack((np.ones(x.shape[0]), x))\n",
    "    model_result = model(theta, x)\n",
    "    # różnica odpowiedzi modelu i wartości prawdziwej\n",
    "    delta = np.array(y - model_result)\n",
    "    # obliczenie pochodnej wysumowanej po wszyskich przykładach\n",
    "    delta = np.reshape(delta,(-1,1))\n",
    "    result = delta*x_expanded\n",
    "    result = np.sum(result, axis=0)\n",
    "    #sprawdzenie poprawności rozmiaru wyniku\n",
    "    assert result.shape == theta.shape\n",
    "    return result\n",
    "\n",
    "def negative_log_likelihood_derivative(theta, x, y, model):\n",
    "    return -log_likelihood_derivative(theta, x, y, model) \n",
    "\n",
    "def classification(theta, x, model):\n",
    "    model_result = model(theta, x)\n",
    "    return model_result>0.5\n",
    "#END_SOLUTION\n",
    "\n",
    "\n",
    "print(logistic_func, log_likelihood)\n",
    "print(negative_log_likelihood, log_likelihood_derivative)\n",
    "print(negative_log_likelihood_derivative)\n",
    "print(classification)\n",
    "\n",
    "theta0 = np.array([0,0,0])\n",
    "model = logistic_func\n",
    "llh = log_likelihood(theta0, df[[\"matematyka\",\"biologia\"]], df[\"wynik\"], model)\n",
    "llh_derivative = log_likelihood_derivative(theta0, df[[\"matematyka\",\"biologia\"]], df[\"wynik\"], model)\n",
    "\n",
    "print(\"Wartość funkcji log-wiarygodności dla zbioru testowego = {}\".format(llh))\n",
    "print(\"Wartość pochodnej funkcji log-wiarygodności dla zbioru testowego = {}\".format(llh_derivative))"
   ]
  },
  {
   "cell_type": "markdown",
   "metadata": {
    "id": "qzYhR3-IF6TI"
   },
   "source": [
    "### Zastosowanie w naszym przykładzie\n",
    "Przeprowadzimy kross-walidację typu $leave-one-out$:\n",
    "po kolei odłożymy po jednym przykładzie ze zbioru uczącego i na takim zredukownaym zbiorze nauczymy regresję, a następnie sprawdzimy \n",
    "działanie modelu na odłożonym przykładzie. Kroki są następujące:\n",
    "\n",
    "* ze zbioru uczącego odrzucamy jeden przykład\n",
    "* na pozostałych przykładach \"trenujemy model\", czyli znajdujemy parametry $\\theta$\n",
    "* sprawdzamy działanie modelu na odrzuconym wcześniej przykładzie\n",
    "* procedurę powtarzamy dla wszystkich przykładów w zbiorze uczącym  \n",
    "\n",
    "\n",
    "**Proszę:** \n",
    "\n",
    "* napisać funckję ```leave_one_out_CV(df, theta, model)``` która:\n",
    "    * przyjmuje zestaw uczący w postaci obiektu DataFrame, początkowe wartości parametrów $\\theta$, oraz model $model$\n",
    "    * implementuje algorytm ```leave-one-out``` i tworzy listę wyników modelu dla każdego przykładu:\n",
    "\n",
    "    ```Python\n",
    "    passed = np.append(passed, classification(theta_opt, df_left_out[[\"matematyka\",\"biologia\"]], model))\n",
    "    ```\n",
    "\n",
    "    * dodaje do obiektu DataFrame kolumnę z wynikami modelu:\n",
    "\n",
    "```Python\n",
    "df[\"model\"] = passed \n",
    "```   \n",
    "\n",
    "* uruchomić funkcję na danych i wypisać zawartość zmodyfikowanego obiektu DataFrame. \n",
    "\n",
    "Oczekiwany wynik to:\n",
    "```Python\n",
    "    matematyka   biologia  wynik  model\n",
    "0    34.623660  78.024693      0    0.0\n",
    "1    30.286711  43.894998      0    0.0\n",
    "2    35.847409  72.902198      0    0.0\n",
    "3    60.182599  86.308552      1    1.0\n",
    "4    79.032736  75.344376      1    1.0\n",
    "..         ...        ...    ...    ...\n",
    "```"
   ]
  },
  {
   "cell_type": "code",
   "execution_count": 4,
   "metadata": {},
   "outputs": [
    {
     "name": "stdout",
     "output_type": "stream",
     "text": [
      "    matematyka   biologia  wynik  model\n",
      "0    34.623660  78.024693      0    0.0\n",
      "1    30.286711  43.894998      0    0.0\n",
      "2    35.847409  72.902198      0    0.0\n",
      "3    60.182599  86.308552      1    1.0\n",
      "4    79.032736  75.344376      1    1.0\n",
      "..         ...        ...    ...    ...\n",
      "95   83.489163  48.380286      1    1.0\n",
      "96   42.261701  87.103851      1    1.0\n",
      "97   99.315009  68.775409      1    1.0\n",
      "98   55.340018  64.931938      1    0.0\n",
      "99   74.775893  89.529813      1    1.0\n",
      "\n",
      "[100 rows x 4 columns]\n",
      "CPU times: user 7.22 s, sys: 12.7 ms, total: 7.23 s\n",
      "Wall time: 7.22 s\n"
     ]
    }
   ],
   "source": [
    "%%time \n",
    "\n",
    "def leave_one_out_CV(df, theta0, model):\n",
    "    # macierz przechowująca wyniki dla danego modelu\n",
    "    passed = np.array([])\n",
    "    # kopia oryginalnych danych\n",
    "    df_with_model = df.copy()\n",
    "    \n",
    "    # pętla po wszystkich przykładach\n",
    "    for leave_out_index in df.index:\n",
    "        # 1. stworz dataframe bez jednego przykladu\n",
    "        #BEGIN_SOLUTION\n",
    "        df_filtered = df[df.index!=leave_out_index]\n",
    "        #END_SOLUTION\n",
    "        # 2. znajdz optymalne parametry theta\n",
    "        #BEGIN_SOLUTION\n",
    "        theta_opt = so.fmin_bfgs(f=negative_log_likelihood, x0=theta0, \n",
    "                         #fprime=negative_log_likelihood_derivative, \n",
    "                         args=(df_filtered[[\"matematyka\",\"biologia\"]], df_filtered[\"wynik\"], model), disp=False)\n",
    "        #END_SOLUTION\n",
    "        # 3. stworz dataframe z odrzuconego (pojedynczego) przykladu\n",
    "        #BEGIN_SOLUTION\n",
    "        df_left_out = df[df.index==leave_out_index]\n",
    "        #END_SOLUTION\n",
    "        # 4. dodaj wynik modelu do poprzednich wynikow \n",
    "        #BEGIN_SOLUTION\n",
    "        passed = np.append(passed, classification(theta_opt, df_left_out[[\"matematyka\",\"biologia\"]], model))\n",
    "        #END_SOLUTION\n",
    "    # dodajemy wyniki modelu do calego data frame\n",
    "    df_with_model[\"model\"] = passed\n",
    "    # zwracamy data frame powiekszony o kolumne z wynikami modelu\n",
    "    return df_with_model\n",
    "                        \n",
    "theta0 = np.array([0,0,0])\n",
    "model = logistic_func \n",
    "df_with_model = leave_one_out_CV(df, theta0, model)\n",
    "print(df_with_model)"
   ]
  },
  {
   "cell_type": "markdown",
   "metadata": {},
   "source": [
    "Zdefiniujmy następujące przypadki gdy nasz model się myli lub podaje poprawny wynik:\n",
    "\n",
    "* **\"True Positive\" (TP)**:  stan faktyczny jest pozytywny (y=1) i klasyfikator się nie myli (wynik = 1)\n",
    "* **\"True Negative\" (TN)**:  stan faktyczny jest negatywny (y=0) i klasyfikator się nie myli (wynik = 0) \n",
    "* **\"False Positive\" (FP)**: wynik fałszywie pozytywny (fałszywy alarm): stan faktyczny jest negatywny (y=0) ale klasyfikator się  myli (wynik = 1)\n",
    "* **\"False Netative\" (FN)**: przegapiony alarm: stan faktyczny jest pozytywny (y=1) i klasyfikator się myli (wynik = 0)\n",
    "\n",
    "**Proszę** napisać kod, który zlicza warianty TP, TN, FP, FN. Dla naszego zbioru uczącego powinniśmy uzyskać:\n",
    "```Python\n",
    "TP:  55\n",
    "FP:  6\n",
    "TN:  34\n",
    "FN:  5\n",
    "```   \n",
    "\n",
    "**Wskazówka:** \n",
    "* proszę użyć metody ```df.shape[0]``` by zliczać liczbę wierszy w odpowiednio przefiltrowanym obiekcie DataFrame\n",
    "* proszę użyć warunkow logicznych aby wybrać odpowiednie dane i pola `shape[0]` aby dostać liczbę wierszy"
   ]
  },
  {
   "cell_type": "code",
   "execution_count": 5,
   "metadata": {},
   "outputs": [
    {
     "name": "stdout",
     "output_type": "stream",
     "text": [
      "TP = 55\n",
      "FP = 6\n",
      "TN = 34\n",
      "FN = 5\n"
     ]
    }
   ],
   "source": [
    "#BEGIN_SOLUTION\n",
    "tp = df_with_model[(df_with_model[\"model\"]>0.5)&(df_with_model[\"wynik\"]==1)].shape[0]\n",
    "fp = df_with_model[(df_with_model[\"model\"]>0.5)&(df_with_model[\"wynik\"]==0)].shape[0]\n",
    "tn = df_with_model[(df_with_model[\"model\"]<0.5)&(df_with_model[\"wynik\"]==0)].shape[0]\n",
    "fn = df_with_model[(df_with_model[\"model\"]<0.5)&(df_with_model[\"wynik\"]==1)].shape[0]\n",
    "#END_SOLUTION\n",
    "\n",
    "print(\"TP = {}\\nFP = {}\\nTN = {}\\nFN = {}\".format(tp, fp, tn, fn))"
   ]
  },
  {
   "cell_type": "markdown",
   "metadata": {
    "id": "0UNsb51DF6TQ"
   },
   "source": [
    "## Krzywa ROC\n",
    "\n",
    "Aby wykreślić krzywą ROC należy przeprowadzić klasyfikację dla wielu możliwych wartości progu dla hipotezy, powyżej którego uznajemy przypadek za należący do klasy 1. W tym celu należy zmodyfikować funckję ```leave_one_out_CV(df, theta0, model)``` tak by zapisywała prawdopodobieństwo, a nie wynik działania funkcji ```classification```\n",
    "\n",
    "**Proszę:** \n",
    "* napisać funkcję ```leave_one_out_CV_with_prob(df, theta0, model)``` która zapisuje kolumnę z prawdopodobieństwem zamiast wynikiem klasyfikacji:\n",
    "\n",
    "```Python\n",
    "df_with_model[\"model_prob\"] = prob\n",
    "```\n",
    "Oczekiwany wynik:\n",
    "```Python\n",
    "    matematyka   biologia  wynik  model_prob\n",
    "0    34.623660  78.024693      0    0.096880\n",
    "1    30.286711  43.894998      0    0.000042\n",
    "2    35.847409  72.902198      0    0.045567\n",
    "3    60.182599  86.308552      1    0.990292\n",
    "4    79.032736  75.344376      1    0.998191\n",
    "..         ...        ...    ...         ...\n",
    "```"
   ]
  },
  {
   "cell_type": "code",
   "execution_count": 6,
   "metadata": {},
   "outputs": [
    {
     "name": "stdout",
     "output_type": "stream",
     "text": [
      "    matematyka   biologia  wynik  model_prob\n",
      "0    34.623660  78.024693      0    0.096880\n",
      "1    30.286711  43.894998      0    0.000042\n",
      "2    35.847409  72.902198      0    0.045567\n",
      "3    60.182599  86.308552      1    0.990292\n",
      "4    79.032736  75.344376      1    0.998191\n",
      "..         ...        ...    ...         ...\n",
      "95   83.489163  48.380286      1    0.850268\n",
      "96   42.261701  87.103851      1    0.721421\n",
      "97   99.315009  68.775409      1    0.999897\n",
      "98   55.340018  64.931938      1    0.306823\n",
      "99   74.775893  89.529813      1    0.999751\n",
      "\n",
      "[100 rows x 4 columns]\n",
      "CPU times: user 7.24 s, sys: 6.71 ms, total: 7.24 s\n",
      "Wall time: 7.24 s\n"
     ]
    }
   ],
   "source": [
    "%%time \n",
    "\n",
    "def leave_one_out_CV_with_prob(df, theta0, model):\n",
    "    # macierz przechowująca wartość prawdopodobieństwa\n",
    "    prob = np.array([])\n",
    "    # kopia oryginalnego zestawu danych\n",
    "    df_with_model = df.copy()\n",
    "    # petla po wszystkich przykladach\n",
    "    for leave_out_index in df.index:\n",
    "        # 1. stworz dataframe bez jednego przykladu\n",
    "        #BEGIN_SOLUTION\n",
    "        df_filtered = df[df.index!=leave_out_index]\n",
    "        #END_SOLUTION\n",
    "        # 2. znajdz optymalne parametry theta\n",
    "        #BEGIN_SOLUTION\n",
    "        theta_opt = so.fmin_bfgs(f=negative_log_likelihood, x0=theta0, \n",
    "                         #fprime=negative_log_likelihood_derivative, \n",
    "                         args=(df_filtered[[\"matematyka\",\"biologia\"]], df_filtered[\"wynik\"], model), disp=False)\n",
    "        #END_SOLUTION\n",
    "        # 3. stworz dataframe z odrzuconego (pojedynczego) przykladu\n",
    "        #BEGIN_SOLUTION\n",
    "        df_left_out = df[df.index==leave_out_index]\n",
    "        #END_SOLUTION\n",
    "        # 4. dodajemy wynik modelu do poprzednich\n",
    "        #BEGIN_SOLUTION\n",
    "        prob = np.append(prob, model(theta_opt, df_left_out[[\"matematyka\",\"biologia\"]]))\n",
    "        #END_SOLUTION\n",
    "    # dodajemy wyniki modelu (prawdopodobienstwa) do calego DataFrame\n",
    "    df_with_model[\"model_prob\"] = prob\n",
    "    # zwracamy data frame powiekszony o kolumne z wynikami modelu (prawdopodobienstwami)\n",
    "    return df_with_model\n",
    "                        \n",
    "theta0 = np.array([0,0,0])\n",
    "model = logistic_func \n",
    "df_with_prob = leave_one_out_CV_with_prob(df, theta0, model)\n",
    "print(df_with_prob)"
   ]
  },
  {
   "cell_type": "markdown",
   "metadata": {},
   "source": [
    "**Proszę:**\n",
    "* narysować krzywą ROC oraz obliczyć pole pod nią (\"area under ROC, AUC)\n",
    "\n",
    "**Wskazówka:**\n",
    "* do obliczenia AUC proszę użyć funkcji z biblioteki ```sklearn```. Nazwę i dokumentację funkcji można znaleźć wpisując w Google hasło \"sklearn roc\"\n",
    "* proszę użyć funkcji klasy ```RocCurveDisplay``` z biblioteki ```sklearn```. Nazwę i dokumentację funkcji można znaleźć wpisując w Google hasło \"RocCurveDisplay\""
   ]
  },
  {
   "cell_type": "code",
   "execution_count": 7,
   "metadata": {},
   "outputs": [
    {
     "name": "stdout",
     "output_type": "stream",
     "text": [
      "AUC wynosi: 0.96\n"
     ]
    },
    {
     "data": {
      "image/png": "[encoded data removed]",
      "text/plain": [
       "<Figure size 360x360 with 1 Axes>"
      ]
     },
     "metadata": {
      "needs_background": "light"
     },
     "output_type": "display_data"
    }
   ],
   "source": [
    "from sklearn.metrics import roc_curve, auc\n",
    "\n",
    "#BEGIN_SOLUTION\n",
    "fpr, tpr, thresholds = roc_curve(df_with_prob[\"wynik\"], df_with_prob[\"model_prob\"])\n",
    "roc_auc = auc(fpr, tpr)\n",
    "#END_SOLUTION\n",
    "\n",
    "fig, axs = plt.subplots(1, 1, figsize=(5,5))\n",
    "#BEGIN_SOLUTION\n",
    "RocCurveDisplay.from_predictions(df_with_prob[\"wynik\"], df_with_prob[\"model_prob\"], ax=axs)\n",
    "#END_SOLUTION\n",
    "\n",
    "# krzywa (diagonala) dla klasyfikatora losowo przypisującą kategorie -  najgorsze rozwiązanie\n",
    "plt.plot([0, 1], [0, 1], color='navy', linewidth=3, linestyle='--')\n",
    "plt.legend(loc=\"lower right\");\n",
    "\n",
    "print(\"AUC wynosi:\",\"{:0.2f}\".format(roc_auc))"
   ]
  },
  {
   "cell_type": "markdown",
   "metadata": {},
   "source": [
    "## Modyfikacja modelu - wybór zmiennych wejściowych do modelu\n",
    "\n",
    "**Proszę:** \n",
    "\n",
    "wykonać trening regresji logistycznej dla modelu, który używa wyniku tylko z jednego egzaminu i narysować na jednym rysunku krzywe ROC dla trzech wariantów:\n",
    "* modelu używającego wyników z obu przedmiotów\n",
    "* modelu używającego tylko wyników z matematyki\n",
    "* modelu używającego tylko wyników z biologii\n",
    "\n",
    "Krok 1: \n",
    "\n",
    "**Proszę:**\n",
    "\n",
    "* przerobić funkcję ```leave_one_out_CV_with_prob``` tak by wykonywała obliczenia dla wszystkich trzech wariantów\n",
    "\n",
    "Oczekiwany wynik:\n",
    "```Python\n",
    "   matematyka   biologia  wynik  model_prob  model_prob_matematyka  \\\n",
    "0    34.623660  78.024693      0    0.096879               0.132115   \n",
    "1    30.286711  43.894998      0    0.000042               0.096571   \n",
    "2    35.847409  72.902198      0    0.045566               0.143957   \n",
    "3    60.182599  86.308552      1    0.990292               0.530217   \n",
    "4    79.032736  75.344376      1    0.998192               0.839340   \n",
    "..         ...        ...    ...         ...                    ...  \n",
    "\n",
    "\n",
    "    model_prob_biologia  \n",
    "0              0.816447  \n",
    "1              0.276754  \n",
    "2              0.750268  \n",
    "3              0.875439  \n",
    "4              0.765500  \n",
    "..                  ...\n",
    "```"
   ]
  },
  {
   "cell_type": "code",
   "execution_count": 8,
   "metadata": {},
   "outputs": [
    {
     "name": "stdout",
     "output_type": "stream",
     "text": [
      "    matematyka   biologia  wynik  model_prob  model_prob_matematyka  \\\n",
      "0    34.623660  78.024693      0    0.096879               0.132115   \n",
      "1    30.286711  43.894998      0    0.000042               0.096571   \n",
      "2    35.847409  72.902198      0    0.045566               0.143957   \n",
      "3    60.182599  86.308552      1    0.990292               0.530217   \n",
      "4    79.032736  75.344376      1    0.998192               0.839340   \n",
      "..         ...        ...    ...         ...                    ...   \n",
      "95   83.489163  48.380286      1    0.850268               0.882310   \n",
      "96   42.261701  87.103851      1    0.721421               0.191751   \n",
      "97   99.315009  68.775409      1    0.999897               0.964477   \n",
      "98   55.340018  64.931938      1    0.306822               0.429564   \n",
      "99   74.775893  89.529813      1    0.999751               0.787323   \n",
      "\n",
      "    model_prob_biologia  \n",
      "0              0.816447  \n",
      "1              0.276754  \n",
      "2              0.750268  \n",
      "3              0.875439  \n",
      "4              0.765500  \n",
      "..                  ...  \n",
      "95             0.320625  \n",
      "96             0.881395  \n",
      "97             0.673462  \n",
      "98             0.611549  \n",
      "99             0.898072  \n",
      "\n",
      "[100 rows x 6 columns]\n",
      "CPU times: user 3.47 s, sys: 4.93 ms, total: 3.48 s\n",
      "Wall time: 3.47 s\n"
     ]
    }
   ],
   "source": [
    "%%time\n",
    "\n",
    "def leave_one_out_CV_many_models(df, theta0, model):\n",
    "    # macierz przechowująca prawdopodobieństwa dla modelu używającego wszystkich kolumn\n",
    "    prob = np.array([])\n",
    "    # macierz przechowująca prawdopodobieństwa dla modelu używającego tylko wyniki z matematyki\n",
    "    prob_math = np.array([])\n",
    "    # macierz przechowująca prawdopodobieństwa dla modelu używającego tylko wyniki z matematyki\n",
    "    prob_biol = np.array([])\n",
    "    # kopia oaryginalnych danych\n",
    "    df_with_model = df.copy()\n",
    "    \n",
    "    for leave_out_index in df.index:\n",
    "        #BEGIN_SOLUTION\n",
    "        df_filtered = df[df.index!=leave_out_index]\n",
    "        df_left_out = df[df.index==leave_out_index]\n",
    "        ###########\n",
    "        theta_opt = so.fmin_bfgs(f=negative_log_likelihood, x0=theta0, \n",
    "                         fprime=negative_log_likelihood_derivative, \n",
    "                         args=(df_filtered[[\"matematyka\",\"biologia\"]], df_filtered[\"wynik\"], model), disp=False)\n",
    "        prob = np.append(prob, model(theta_opt, df_left_out[[\"matematyka\",\"biologia\"]]))\n",
    "        ##########\n",
    "        theta_opt = so.fmin_bfgs(f=negative_log_likelihood, x0=theta0[0:2], \n",
    "                         fprime=negative_log_likelihood_derivative, \n",
    "                         args=(df_filtered[\"matematyka\"], df_filtered[\"wynik\"], model), disp=False)\n",
    "        prob_math = np.append(prob_math, model(theta_opt, df_left_out[[\"matematyka\"]]))\n",
    "        #########\n",
    "        theta_opt = so.fmin_bfgs(f=negative_log_likelihood, x0=theta0[0:2], \n",
    "                         fprime=negative_log_likelihood_derivative, \n",
    "                         args=(df_filtered[\"biologia\"], df_filtered[\"wynik\"], model), disp=False)\n",
    "        prob_biol = np.append(prob_biol, model(theta_opt, df_left_out[[\"biologia\"]]))\n",
    "        ##########\n",
    "        #END_SOLUTION\n",
    "    # dodajemy wyniki modelu (prawdopodobienstwa) do calego DataFrame\n",
    "    # i zwracamy DataFrame powiększone o kolumny z wynikami trzech modeli\n",
    "    df_with_model[\"model_prob\"] = prob\n",
    "    df_with_model[\"model_prob_matematyka\"] = prob_math\n",
    "    df_with_model[\"model_prob_biologia\"] = prob_biol\n",
    "    return df_with_model\n",
    "                        \n",
    "theta0 = np.array([0,0,0])\n",
    "model = logistic_func \n",
    "df_with_prob = leave_one_out_CV_many_models(df, theta0, model)\n",
    "print(df_with_prob)"
   ]
  },
  {
   "cell_type": "markdown",
   "metadata": {},
   "source": [
    "Krok 2:\n",
    "\n",
    "**Proszę:**\n",
    "\n",
    "* narysować na jednym rysunku krzywe ROC dla wszystkich trzech modeli"
   ]
  },
  {
   "cell_type": "code",
   "execution_count": 9,
   "metadata": {},
   "outputs": [
    {
     "data": {
      "image/png": "[encoded data removed]",
      "text/plain": [
       "<Figure size 360x360 with 1 Axes>"
      ]
     },
     "metadata": {
      "needs_background": "light"
     },
     "output_type": "display_data"
    }
   ],
   "source": [
    "fig, axs = plt.subplots(1, 1, figsize=(5,5))\n",
    "lw = 2 #szerokosć linii - line width\n",
    "\n",
    "#BEGIN_SOLUTION\n",
    "RocCurveDisplay.from_predictions(df_with_prob[\"wynik\"], df_with_prob[\"model_prob\"], name='matematyka+biologia', ax=axs, color='darkorange',lw=lw)\n",
    "RocCurveDisplay.from_predictions(df_with_prob[\"wynik\"], df_with_prob[\"model_prob_matematyka\"], name='matematyka', ax=axs, color='darkblue',lw=lw)\n",
    "RocCurveDisplay.from_predictions(df_with_prob[\"wynik\"], df_with_prob[\"model_prob_biologia\"], name='biologia',ax=axs, color='darkgreen',lw=lw)\n",
    "#END_SOLUTION\n",
    "\n",
    "plt.plot([0, 1], [0, 1], color='navy', lw=lw, linestyle='--')\n",
    "plt.title('Receiver operating characteristic for logistic regression');"
   ]
  },
  {
   "cell_type": "markdown",
   "metadata": {},
   "source": [
    "# Zadanie domowe \n",
    "\n",
    "Zastosowanie regresji logistycznej do innego rodzaju danych\n",
    "\n",
    "**Proszę:**\n",
    "\n",
    "* narysować krzywą ROC dla modelu wytrenowanego na danych z pracy domowej z poprzednich ćwiczeń\n",
    "* napisać funkcję ```logistic_func_1(theta, x)``` która będzie działać podobnie do oryginalnej, ale dodać w niej do oryginalnych danych 3 kolumny: kolumnę jedynek (tak jak poprzednio), kolumnę $x_{1}^2$, kolumnę $x_{2}^2$, gdzie $x_{1}$ i $x_{2}$ to wyniki z matematyki i biologii odpowiednio.\n",
    "* użyć jej jako modelu podawanego fo trenowania w funkcji ```leave_one_out_CV_with_prob(df, theta0, model)```\n",
    "* narysować krzywą ROC dla nowego modelu"
   ]
  },
  {
   "cell_type": "code",
   "execution_count": 10,
   "metadata": {},
   "outputs": [
    {
     "data": {
      "image/png": "[encoded data removed]",
      "text/plain": [
       "<Figure size 432x432 with 3 Axes>"
      ]
     },
     "metadata": {
      "needs_background": "light"
     },
     "output_type": "display_data"
    },
    {
     "data": {
      "image/png": "[encoded data removed]",
      "text/plain": [
       "<Figure size 360x360 with 1 Axes>"
      ]
     },
     "metadata": {
      "needs_background": "light"
     },
     "output_type": "display_data"
    }
   ],
   "source": [
    "#BEGIN_SOLUTION\n",
    "nPoints = 100\n",
    "x = 100*np.random.random_sample(nPoints)\n",
    "y = 100*np.random.random_sample(nPoints)\n",
    "\n",
    "df = pd.DataFrame(data=x, columns=[\"matematyka\"])\n",
    "df[\"biologia\"] = y\n",
    "# tworzymy nowe dane\n",
    "df[\"wynik\"] = np.sqrt((x-50)**2 + (y-50)**2)>25\n",
    "\n",
    "# rysunek pokazujący klasy na płaszczyźnie ```x=\"matematyka\", y=\"biologia\"```\n",
    "x = sns.jointplot(x=\"matematyka\", y=\"biologia\", data=df, kind='hist', hue=\"wynik\")\n",
    "x.set_axis_labels('matematyka', 'biologia', fontsize=16);\n",
    "\n",
    "# trening modelu\n",
    "theta0 = np.array([0,0,0])\n",
    "model = logistic_func\n",
    "# prawdopodobienstwa z modelu przy uzyciu walidacji leave_one_out\n",
    "df_with_prob = leave_one_out_CV_with_prob(df, theta0, model)\n",
    "\n",
    "# krzywa ROC\n",
    "fig, axs = plt.subplots(1, 1, figsize=(5,5))\n",
    "lw = 2\n",
    "RocCurveDisplay.from_predictions(df_with_prob[\"wynik\"], df_with_prob[\"model_prob\"], name='model',ax=axs, color='darkorange',lw=lw)\n",
    "plt.plot([0, 1], [0, 1], color='navy', lw=lw, linestyle='--')\n",
    "#END_SOLUTION\n",
    "plt.title('Receiver operating characteristic for logistic regression')\n",
    "plt.legend(loc=\"lower right\");\n"
   ]
  },
  {
   "cell_type": "code",
   "execution_count": 11,
   "metadata": {},
   "outputs": [
    {
     "name": "stdout",
     "output_type": "stream",
     "text": [
      "CPU times: user 21.6 s, sys: 33.4 ms, total: 21.6 s\n",
      "Wall time: 21.5 s\n"
     ]
    },
    {
     "data": {
      "text/plain": [
       "Text(0.5, 1.0, 'Receiver operating characteristic for logistic regression')"
      ]
     },
     "execution_count": 11,
     "metadata": {},
     "output_type": "execute_result"
    },
    {
     "data": {
      "image/png": "[encoded data removed]",
      "text/plain": [
       "<Figure size 360x360 with 1 Axes>"
      ]
     },
     "metadata": {
      "needs_background": "light"
     },
     "output_type": "display_data"
    }
   ],
   "source": [
    "%%time\n",
    "\n",
    "def logistic_func_1(theta, x):\n",
    "    #BEGIN_SOLUTION\n",
    "    x_expanded = np.column_stack((np.ones(x.shape[0]), x*x, x))\n",
    "    arg = np.sum(theta*x_expanded, axis=1)\n",
    "    arg = np.where(np.abs(arg)<18, arg, 18*np.sign(arg))\n",
    "    return 1.0/(1+np.exp(-arg))\n",
    "    #END_SOLUTION\n",
    "\n",
    "theta0 = np.array([0,0,0,0,0])\n",
    "model = logistic_func_1 \n",
    "df_with_prob = leave_one_out_CV_with_prob(df, theta0, model)\n",
    "\n",
    "#BEGIN_SOLUTION\n",
    "fig, axs = plt.subplots(1, 1, figsize=(5,5))\n",
    "lw = 2\n",
    "RocCurveDisplay.from_predictions(df_with_prob[\"wynik\"], df_with_prob[\"model_prob\"], name='model',ax=axs, color='darkorange',lw=lw)\n",
    "plt.plot([0, 1], [0, 1], color='navy', lw=lw, linestyle='--')\n",
    "#END_SOLUTION\n",
    "plt.title('Receiver operating characteristic for logistic regression');\n"
   ]
  },
  {
   "cell_type": "code",
   "execution_count": null,
   "metadata": {},
   "outputs": [],
   "source": []
  }
 ],
 "metadata": {
  "colab": {
   "collapsed_sections": [],
   "name": "02M_Regresja_logistyczna.ipynb",
   "provenance": [
    {
     "file_id": "1QyygSjtzI9iNile4e8Qlcur7Qn0r_VRN",
     "timestamp": 1546856483810
    }
   ]
  },
  "interpreter": {
   "hash": "fcb4468fb47c6127ab44332c3f3439a85914e2850b2efd86c12e06a03080f93f"
  },
  "kernelspec": {
   "display_name": "Python 3 (ipykernel)",
   "language": "python",
   "name": "python3"
  },
  "language_info": {
   "codemirror_mode": {
    "name": "ipython",
    "version": 3
   },
   "file_extension": ".py",
   "mimetype": "text/x-python",
   "name": "python",
   "nbconvert_exporter": "python",
   "pygments_lexer": "ipython3",
   "version": "3.8.10"
  },
  "widgets": {
   "application/vnd.jupyter.widget-state+json": {
    "4a92c6b51368406ba79cf23ea6c1be11": {
     "model_module": "@jupyter-widgets/base",
     "model_name": "LayoutModel",
     "state": {
      "_model_module": "@jupyter-widgets/base",
      "_model_module_version": "1.2.0",
      "_model_name": "LayoutModel",
      "_view_count": null,
      "_view_module": "@jupyter-widgets/base",
      "_view_module_version": "1.2.0",
      "_view_name": "LayoutView",
      "align_content": null,
      "align_items": null,
      "align_self": null,
      "border": null,
      "bottom": null,
      "display": null,
      "flex": null,
      "flex_flow": null,
      "grid_area": null,
      "grid_auto_columns": null,
      "grid_auto_flow": null,
      "grid_auto_rows": null,
      "grid_column": null,
      "grid_gap": null,
      "grid_row": null,
      "grid_template_areas": null,
      "grid_template_columns": null,
      "grid_template_rows": null,
      "height": null,
      "justify_content": null,
      "justify_items": null,
      "left": null,
      "margin": null,
      "max_height": null,
      "max_width": null,
      "min_height": null,
      "min_width": null,
      "object_fit": null,
      "object_position": null,
      "order": null,
      "overflow": null,
      "overflow_x": null,
      "overflow_y": null,
      "padding": null,
      "right": null,
      "top": null,
      "visibility": null,
      "width": null
     }
    },
    "a6e5e2c335854c40857d817fde071239": {
     "model_module": "@jupyter-widgets/controls",
     "model_name": "ProgressStyleModel",
     "state": {
      "_model_module": "@jupyter-widgets/controls",
      "_model_module_version": "1.5.0",
      "_model_name": "ProgressStyleModel",
      "_view_count": null,
      "_view_module": "@jupyter-widgets/base",
      "_view_module_version": "1.2.0",
      "_view_name": "StyleView",
      "bar_color": null,
      "description_width": ""
     }
    },
    "c276665ac3fb4531948d896f79ef1c22": {
     "model_module": "@jupyter-widgets/controls",
     "model_name": "FloatProgressModel",
     "state": {
      "_dom_classes": [],
      "_model_module": "@jupyter-widgets/controls",
      "_model_module_version": "1.5.0",
      "_model_name": "FloatProgressModel",
      "_view_count": null,
      "_view_module": "@jupyter-widgets/controls",
      "_view_module_version": "1.5.0",
      "_view_name": "ProgressView",
      "bar_style": "",
      "description": "",
      "description_tooltip": null,
      "layout": "IPY_MODEL_4a92c6b51368406ba79cf23ea6c1be11",
      "max": 100,
      "min": 0,
      "orientation": "horizontal",
      "style": "IPY_MODEL_a6e5e2c335854c40857d817fde071239",
      "value": 100
     }
    }
   }
  }
 },
 "nbformat": 4,
 "nbformat_minor": 4
}
